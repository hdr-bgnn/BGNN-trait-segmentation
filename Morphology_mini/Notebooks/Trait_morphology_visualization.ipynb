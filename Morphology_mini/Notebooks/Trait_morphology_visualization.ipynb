{
 "cells": [
  {
   "cell_type": "markdown",
   "metadata": {},
   "source": [
    "# Tool to visualize a fish segmentation and choose different morpholical parameters\n",
    "\n",
    "This notebook is a short demo of the different information you can extract from the trait segmentation.\n",
    "it is similar than a tutorial that allows you to understand the data step by step\n",
    "Please comment as much as you want..."
   ]
  },
  {
   "cell_type": "code",
   "execution_count": 65,
   "metadata": {},
   "outputs": [],
   "source": [
    "# import the differente library\n",
    "import os\n",
    "import sys\n",
    "import numpy as np\n",
    "from PIL import Image\n",
    "from skimage.measure import label, regionprops, regionprops_table\n",
    "from math import sqrt\n",
    "import json\n",
    "import matplotlib.pyplot as plt\n",
    "import pprint"
   ]
  },
  {
   "cell_type": "markdown",
   "metadata": {},
   "source": [
    "## Import and convert the segmentation png into 12 channels"
   ]
  },
  {
   "cell_type": "code",
   "execution_count": 2,
   "metadata": {},
   "outputs": [],
   "source": [
    "# Create dictionnary to convert between trait category and channels and color\n",
    "\n",
    "trait_list = [\"background\", \"dorsal_fin\", \"adipos_fin\", \"caudal_fin\", \"anal_fin\", \"pelvic_fin\", \"pectoral_fin\",\n",
    "              \"head\", \"eye\", \"caudal_fin_ray\", \"alt_fin_ray\", \"alt_fine_spine\", \"trunk\"]\n",
    "\n",
    "color_list = [np.array([0, 0, 0]), np.array([254, 0, 0]),\n",
    "              np.array([0, 254, 0]), np.array([0, 0, 254]),\n",
    "              np.array([254, 254, 0]), np.array([0, 254, 254]),\n",
    "              np.array([254, 0, 254]), np.array([254, 254, 254]),\n",
    "              np.array([0, 254, 102]), np.array([254, 102, 102]),\n",
    "              np.array([254, 102, 204]), np.array([254, 204, 102]),\n",
    "              np.array([0, 124, 124])]\n",
    "\n",
    "# Create dictionnaries to go from channel to color or from trait to color\n",
    "channel_color_dict = {i: j for i, j in enumerate(color_list)}\n",
    "trait_color_dict = dict(zip(trait_list, color_list))\n"
   ]
  },
  {
   "cell_type": "code",
   "execution_count": 3,
   "metadata": {},
   "outputs": [],
   "source": [
    "# choose the different file\n",
    "image_path = 'INHS_122505_segmented.png'\n",
    "metadata_file = 'INHS_122505.json'"
   ]
  },
  {
   "cell_type": "code",
   "execution_count": 4,
   "metadata": {},
   "outputs": [],
   "source": [
    "def import_segmented_image(image_path):\n",
    "    '''\n",
    "    import the image from \"image_path\" and convert to np.array astype uint8 (0-255)\n",
    "\n",
    "    '''\n",
    "    img = Image.open(image_path)\n",
    "    img_arr = np.array(img, dtype=np.uint8)\n",
    "\n",
    "    return img_arr"
   ]
  },
  {
   "cell_type": "code",
   "execution_count": 16,
   "metadata": {},
   "outputs": [
    {
     "data": {
      "text/plain": [
       "<matplotlib.image.AxesImage at 0x7f2a04510fd0>"
      ]
     },
     "execution_count": 16,
     "metadata": {},
     "output_type": "execute_result"
    },
    {
     "data": {
      "image/png": "[encoded data removed]",
      "text/plain": [
       "<Figure size 432x288 with 1 Axes>"
      ]
     },
     "metadata": {
      "needs_background": "light"
     },
     "output_type": "display_data"
    }
   ],
   "source": [
    "# import the image into array\n",
    "img = import_segmented_image(image_path)\n",
    "plt.imshow(img)"
   ]
  },
  {
   "cell_type": "code",
   "execution_count": 6,
   "metadata": {},
   "outputs": [],
   "source": [
    "def get_one_trait_mask(img, trait_color_dict, trait_key):\n",
    "    '''\n",
    "    Create a mask for a trait define by \"trait_key\" using \"img\" (the image array)\n",
    "    and trait_color_dict (the trait to color dictionnary) \n",
    "\n",
    "    '''\n",
    "    color_array = trait_color_dict[trait_key]\n",
    "    trait_mask = (img[:, :, 0] == color_array[0]) & (\n",
    "        img[:, :, 1] == color_array[1]) & (img[:, :, 2] == color_array[2])\n",
    "\n",
    "    return trait_mask"
   ]
  },
  {
   "cell_type": "code",
   "execution_count": 8,
   "metadata": {},
   "outputs": [
    {
     "data": {
      "text/plain": [
       "<matplotlib.image.AxesImage at 0x7f2a047b4430>"
      ]
     },
     "execution_count": 8,
     "metadata": {},
     "output_type": "execute_result"
    },
    {
     "data": {
      "image/png": "[encoded data removed]",
      "text/plain": [
       "<Figure size 432x288 with 1 Axes>"
      ]
     },
     "metadata": {
      "needs_background": "light"
     },
     "output_type": "display_data"
    }
   ],
   "source": [
    "trait_mask = get_one_trait_mask(img, trait_color_dict, \"caudal_fin\")\n",
    "plt.imshow(trait_mask)"
   ]
  },
  {
   "cell_type": "code",
   "execution_count": 9,
   "metadata": {},
   "outputs": [],
   "source": [
    "\n",
    "def get_channels_mask(img, trait_color_dict):\n",
    "    ''' Convert the png image (numpy.ndarray, np.uint8)  (320, 800, 3)\n",
    "    to a mask_channel (320, 800, 12) Binary map\n",
    "\n",
    "    input\n",
    "    output\n",
    "    img shape -> (320, 800, 3) if normal=True\n",
    "    else: mask shape -> (12, 320, 800)\n",
    "        we want to output a PIL image with rgb color value\n",
    "    '''\n",
    "\n",
    "    mask = {}\n",
    "    for color, trait in enumerate(trait_color_dict):\n",
    "\n",
    "        mask[trait] = get_one_trait_mask(\n",
    "            img, trait_color_dict, trait).astype(\"uint8\")\n",
    "\n",
    "    return mask"
   ]
  },
  {
   "cell_type": "code",
   "execution_count": 15,
   "metadata": {},
   "outputs": [
    {
     "data": {
      "text/plain": [
       "<matplotlib.image.AxesImage at 0x7f2a045431f0>"
      ]
     },
     "execution_count": 15,
     "metadata": {},
     "output_type": "execute_result"
    },
    {
     "data": {
      "image/png": "[encoded data removed]",
      "text/plain": [
       "<Figure size 432x288 with 1 Axes>"
      ]
     },
     "metadata": {
      "needs_background": "light"
     },
     "output_type": "display_data"
    }
   ],
   "source": [
    "mask = get_channels_mask(img, trait_color_dict)\n",
    "plt.imshow(mask[\"pelvic_fin\"])"
   ]
  },
  {
   "cell_type": "code",
   "execution_count": 17,
   "metadata": {},
   "outputs": [],
   "source": [
    "def get_scale(metadata_file):\n",
    "\n",
    "    f = open(metadata_file)\n",
    "    data = json.load(f)\n",
    "    first_value = list(data.values())[0]\n",
    "\n",
    "    if first_value['has_ruler']==True:\n",
    "\n",
    "        scale = round(first_value['scale'],3)\n",
    "    else: scale =[None]\n",
    "    \n",
    "    return scale"
   ]
  },
  {
   "cell_type": "code",
   "execution_count": 20,
   "metadata": {},
   "outputs": [
    {
     "data": {
      "text/plain": [
       "283.14"
      ]
     },
     "execution_count": 20,
     "metadata": {},
     "output_type": "execute_result"
    }
   ],
   "source": [
    "scale_value = get_scale(metadata_file)\n",
    "scale_value"
   ]
  },
  {
   "cell_type": "code",
   "execution_count": 51,
   "metadata": {},
   "outputs": [],
   "source": [
    "def get_morphology_one_trait(trait_key, mask, parameter=None):\n",
    "\n",
    "    trait_mask = mask[trait_key]\n",
    "    total_area = sum(sum(trait_mask))\n",
    "    label_trait = label(trait_mask)\n",
    "    regions_trait = regionprops(label_trait)\n",
    "    \n",
    "    result={\"area\":[], \"percent\" : [],\"centroid\":[], \"bbox\":[]}\n",
    "    # iterate throught the region sorted by area size\n",
    "    # if there are several blobs, it will create a list in each properties\n",
    "    # for each blob i.e result[\"area\"] =[area_1, area_2...]\n",
    "    for region in sorted(regions_trait, key=lambda r: r.area, reverse=True):\n",
    "\n",
    "        # choose what you want to see \n",
    "        result[\"area\"].append(region.area)\n",
    "        result[\"percent\"].append(region.area/total_area)\n",
    "        result[\"centroid\"].append(region.centroid)\n",
    "        result[\"bbox\"].append(region.bbox)\n",
    "    \n",
    "    return result, regions_trait"
   ]
  },
  {
   "cell_type": "code",
   "execution_count": 56,
   "metadata": {},
   "outputs": [
    {
     "name": "stdout",
     "output_type": "stream",
     "text": [
      "[176.31740636642917, 92.29099941172626]\n",
      "15299\n",
      "[94, 5, 257, 160]\n"
     ]
    }
   ],
   "source": [
    "# test regions_trait objec\n",
    "res_head, head = get_morphology_one_trait(\"head\", mask)\n",
    "\n",
    "# you can extract any sort of morphological parameters \n",
    "# you can check the format of each on the output there:\n",
    "# https://scikit-image.org/docs/dev/api/skimage.measure.html#skimage.measure.regionprops\n",
    "centroid_head = list(head[0].centroid) # list() convert tuple to list\n",
    "area_head = head[0].area\n",
    "bbox_head = list(head[0].bbox) # list() convert tuple to list\n",
    "\n",
    "print(centroid_head)\n",
    "print(area_head)\n",
    "print(bbox_head)"
   ]
  },
  {
   "cell_type": "code",
   "execution_count": 45,
   "metadata": {},
   "outputs": [],
   "source": [
    "# for development only\n",
    "def vizualize_trait_bbox (img, regions_trait):\n",
    "\n",
    "    fig, ax = plt.subplots()\n",
    "    ax.imshow(img, cmap=plt.cm.gray)\n",
    "    \n",
    "    # plot bounding box\n",
    "    min_y, min_x, max_y, max_x = regions_trait[0].bbox\n",
    "    bx = (min_x, max_x, max_x, min_x,min_x)\n",
    "    by = (min_y, min_y, max_y, max_y, min_y )\n",
    "    ax.plot(bx, by, '-b', linewidth=2.5)\n",
    "    \n",
    "    # bottom of the bbox\n",
    "    bx =  (max_x, min_x)\n",
    "    by =  (max_y, max_y)\n",
    "    ax.plot(bx, by, '-r', linewidth=1)\n",
    "    \n",
    "    # left of the bbox\n",
    "    bx =  (min_x, min_x)\n",
    "    by =  (max_y, min_y)\n",
    "    ax.plot(bx, by, '-w', linewidth=1)\n",
    "    \n",
    "    # plot centroid\n",
    "    x0, y0 = regions_trait[0].centroid\n",
    "    ax.plot(y0, x0, '.g', markersize=10)\n",
    "    \n",
    "    \n"
   ]
  },
  {
   "cell_type": "code",
   "execution_count": 46,
   "metadata": {},
   "outputs": [
    {
     "data": {
      "image/png": "[encoded data removed]",
      "text/plain": [
       "<Figure size 432x288 with 1 Axes>"
      ]
     },
     "metadata": {
      "needs_background": "light"
     },
     "output_type": "display_data"
    }
   ],
   "source": [
    "head_trait = get_morphology_one_trait(\"head\", mask)\n",
    "vizualize_trait_bbox (img, head_trait)\n"
   ]
  },
  {
   "cell_type": "code",
   "execution_count": 47,
   "metadata": {},
   "outputs": [
    {
     "data": {
      "image/png": "[encoded data removed]",
      "text/plain": [
       "<Figure size 432x288 with 1 Axes>"
      ]
     },
     "metadata": {
      "needs_background": "light"
     },
     "output_type": "display_data"
    }
   ],
   "source": [
    "eye_trait = get_morphology_one_trait(\"eye\", mask)\n",
    "vizualize_trait_bbox (img, eye_trait)"
   ]
  },
  {
   "cell_type": "code",
   "execution_count": 59,
   "metadata": {},
   "outputs": [],
   "source": [
    "# this function should be used as template\n",
    "# it takes the output of get_morphology_one_trait\n",
    "def compare_head_eye(result_head, head, result_eye, eye, metadata_file,  name=None):\n",
    "    \n",
    "    # Checked if there is a major big blob\n",
    "    if result_head[\"percent\"][0] > 0.85 and result_eye[\"percent\"][0] > 0.85:\n",
    "\n",
    "        head = head[0]\n",
    "        eye = eye[0]\n",
    "        ratio_eye_head = eye.area/(head.area + eye.area)\n",
    "\n",
    "        coord_head = head.centroid\n",
    "        coord_eye = eye.centroid\n",
    "\n",
    "        distance_eye_snout =  abs(head.bbox[1]-eye.bbox[1])\n",
    "        scale = get_scale(metadata_file)\n",
    "        \n",
    "    return {name:{\"eye_head_ratio\" : round(ratio_eye_head,3),\n",
    "                \"snout_eye_distance\": round(distance_eye_snout,3), \"scale\":scale}}"
   ]
  },
  {
   "cell_type": "code",
   "execution_count": 71,
   "metadata": {},
   "outputs": [
    {
     "name": "stdout",
     "output_type": "stream",
     "text": [
      "{'fish_name': {'eye_head_ratio': 0.055,\n",
      "               'scale': 283.14,\n",
      "               'snout_eye_distance': 32}}\n"
     ]
    }
   ],
   "source": [
    "result_head, head = get_morphology_one_trait(\"head\", mask)\n",
    "result_eye, eye = get_morphology_one_trait(\"eye\", mask)\n",
    "result  = compare_head_eye(result_head, head, result_eye, eye, metadata_file,  \n",
    "                           name=\"fish_name\")\n",
    "pprint.pprint(result)"
   ]
  },
  {
   "cell_type": "code",
   "execution_count": null,
   "metadata": {},
   "outputs": [],
   "source": []
  }
 ],
 "metadata": {
  "kernelspec": {
   "display_name": "Python 3",
   "language": "python",
   "name": "python3"
  },
  "language_info": {
   "codemirror_mode": {
    "name": "ipython",
    "version": 3
   },
   "file_extension": ".py",
   "mimetype": "text/x-python",
   "name": "python",
   "nbconvert_exporter": "python",
   "pygments_lexer": "ipython3",
   "version": "3.8.5"
  }
 },
 "nbformat": 4,
 "nbformat_minor": 4
}
